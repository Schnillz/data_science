{
 "cells": [
  {
   "cell_type": "markdown",
   "metadata": {},
   "source": [
    "![title](matches.jpg)"
   ]
  },
  {
   "cell_type": "markdown",
   "metadata": {},
   "source": [
    "# THE GAME WITH THREE MATCHES\n",
    "\n",
    "The newest release of this amazing fun game ported to jupyter notebook.\n",
    "Play and enjoy this game."
   ]
  },
  {
   "cell_type": "code",
   "execution_count": 3,
   "metadata": {},
   "outputs": [
    {
     "name": "stdout",
     "output_type": "stream",
     "text": [
      "\n",
      "###################################################################################\n",
      "Das Streichholzspiel, jeder Spieler nimmt 1-3 Streichhoelzer, der Letzte verliert!\n",
      "###################################################################################\n",
      "\n",
      "Vor uns liegen 8 Steine\n",
      "Du bist Spieler A, welcher Spieler soll anfangen? A oder B?\n",
      "B\n",
      "\n",
      "Lasst die Spiele beginnen, Spieler B beginnt!\n",
      "\n",
      "Vor uns liegen 8 Steine\n",
      "ich nehme 3 Steine weg\n",
      "\n",
      "Vor uns liegen 5 Steine\n",
      "Du bist dran, nimm 1-3 Streichhoelzer weg\n",
      "3\n",
      "\n",
      "Vor uns liegen 2 Steine\n",
      "ich nehme 1 Steine weg\n",
      "\n",
      "Vor uns liegen 1 Steine\n",
      "Du bist dran, nimm 1-3 Streichhoelzer weg\n",
      "1\n",
      "\n",
      "Vor uns liegen 0 Steine\n",
      "Spieler B hat gewonnen, das Spiel ist vorbei!\n",
      "\n"
     ]
    }
   ],
   "source": [
    "from random import randint\n",
    "\n",
    "# THE GAME WITH THREE MATCHES\n",
    "# ---------------------------\n",
    "\n",
    "# ----------\n",
    "# move computer\n",
    "# x % 4 != 1 we have a winning strategy!\n",
    "# ----------\n",
    "def computer_move(matches_left):\n",
    "    result_of_mod = matches_left % 4\n",
    "    takeAway = None\n",
    "    if matches_left == 1:\n",
    "        takeAway = 1\n",
    "    elif result_of_mod == 1:\n",
    "        takeAway = randint(1, 3) # inclusive 0 and exlusive 3\n",
    "    elif result_of_mod == 2:\n",
    "        takeAway = 1\n",
    "    elif result_of_mod == 3:\n",
    "        takeAway = 2\n",
    "    elif result_of_mod == 0:\n",
    "        takeAway = 3\n",
    "    return takeAway\n",
    "\n",
    "# ----------\n",
    "def swap(player):\n",
    "    newPlayer = None\n",
    "    if player == \"A\":\n",
    "        newPlayer = \"B\"\n",
    "    elif player == \"B\":\n",
    "        newPlayer = \"A\"\n",
    "    return newPlayer\n",
    "\n",
    "# ----------\n",
    "def begin(matches_start):\n",
    "    print(\"\\n###################################################################################\")\n",
    "    print(\"Das Streichholzspiel, jeder Spieler nimmt 1-3 Streichhoelzer, der Letzte verliert!\")\n",
    "    print(\"###################################################################################\\n\")\n",
    "    print(\"Vor uns liegen {} Steine\".format(matches_start))\n",
    "    player = input(\"Du bist Spieler A, welcher Spieler soll anfangen? A oder B?\\n\")\n",
    "    if player == \"A\" or player == \"B\":\n",
    "        print(\"\\nLasst die Spiele beginnen, Spieler {} beginnt!\".format(player))\n",
    "        take(matches_start, player)\n",
    "    else:\n",
    "        print(\"\\nEingabe nicht lesbar, bitte Spieler 'A' oder 'B' eingeben\")\n",
    "        begin(matches_start)\n",
    "\n",
    "# ----------\n",
    "def take(matches_left, player):\n",
    "    print(\"\\nVor uns liegen {} Steine\".format(matches_left))\n",
    "    if matches_left == 0:\n",
    "        print(\"Spieler \" + player + \" hat gewonnen, das Spiel ist vorbei!\\n\")\n",
    "    elif player == \"A\":\n",
    "        takeAway = int(input(\"Du bist dran, nimm 1-3 Streichhoelzer weg\\n\"))\n",
    "        take(matches_left - takeAway, swap(player))\n",
    "    elif player == \"B\":\n",
    "        takeAway = computer_move(matches_left)\n",
    "        print(\"ich nehme {} Steine weg\".format(takeAway))\n",
    "        take (matches_left - takeAway, swap(player))\n",
    "\n",
    "# ----- begin game\n",
    "begin(4 * randint(1,7))\n"
   ]
  },
  {
   "cell_type": "code",
   "execution_count": null,
   "metadata": {},
   "outputs": [],
   "source": []
  }
 ],
 "metadata": {
  "kernelspec": {
   "display_name": "Python 3",
   "language": "python",
   "name": "python3"
  },
  "language_info": {
   "codemirror_mode": {
    "name": "ipython",
    "version": 3
   },
   "file_extension": ".py",
   "mimetype": "text/x-python",
   "name": "python",
   "nbconvert_exporter": "python",
   "pygments_lexer": "ipython3",
   "version": "3.6.4"
  }
 },
 "nbformat": 4,
 "nbformat_minor": 2
}
